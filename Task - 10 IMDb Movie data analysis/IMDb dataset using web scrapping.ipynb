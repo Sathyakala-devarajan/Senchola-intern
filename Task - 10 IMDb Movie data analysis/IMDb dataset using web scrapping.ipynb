{
 "cells": [
  {
   "cell_type": "markdown",
   "id": "8b9bc72a-a0b5-4023-bf83-32aa4ed206f9",
   "metadata": {},
   "source": [
    "<h1 style = \"text-align: center\"> \n",
    "    <font color ='green'> <b>IMDb Movie data using python web-scrapping </b> </font></h1>\n",
    "<h5 style = \"text-align: left\"> \n",
    "    <font color ='green'> <i> <b>Author: D.Sathyakala,</b></i></font></h5>\n",
    "<h5 style = \"text-align: left\"> \n",
    "    <font color ='green'> <i><b>Data analyst Intern @ Senchola Technology Solutions</b></i> </font></h5>\n"
   ]
  },
  {
   "cell_type": "markdown",
   "id": "4e9043b5-9618-4df7-b6bb-2c010899d7d0",
   "metadata": {},
   "source": [
    "<h2 style = \"text-align: center\"> \n",
    "    <font color ='blue'> Web-scrapping </font></h2>"
   ]
  },
  {
   "cell_type": "markdown",
   "id": "9d17b97f-a53a-4ca6-877d-89c7fca2a8e0",
   "metadata": {},
   "source": [
    "<h3 style = \"text-align: left\"> \n",
    "    <font color ='red'> <i>Import library files</i>  </font></h3>"
   ]
  },
  {
   "cell_type": "code",
   "execution_count": 19,
   "id": "e84fd34a-3da9-4c84-bb59-492eb9eee855",
   "metadata": {},
   "outputs": [],
   "source": [
    "import pandas as pd\n",
    "from bs4 import BeautifulSoup as bs\n",
    "import requests\n",
    "import re"
   ]
  },
  {
   "cell_type": "markdown",
   "id": "6b2bd034-5751-4dbe-9d62-d2fbc0605a6e",
   "metadata": {},
   "source": [
    "<h3 style = \"text-align: left\"> \n",
    "    <font color ='red'> <i>Steps</i>  </font></h3>"
   ]
  },
  {
   "cell_type": "code",
   "execution_count": 20,
   "id": "6de16c03-d4e1-4756-81f8-bfc72d984c6a",
   "metadata": {},
   "outputs": [
    {
     "name": "stdout",
     "output_type": "stream",
     "text": [
      "<Response [504]>\n"
     ]
    }
   ],
   "source": [
    "try:\n",
    "    # loading url of top 250 movies of IMBb list\n",
    "    user_agent = 'Mozilla/5.0 (Windows NT 10.0; Win64; x64) AppleWebKit/537.36 (KHTML, like Gecko) Chrome/116.0.0.0 Safari/537.36'\n",
    "    \n",
    "    # url of the IMDb website\n",
    "    url = 'https://www.imdb.com/chart/top/?ref_=nv_mv_250'\n",
    "    \n",
    "    # Get the url from requests library\n",
    "    response = requests.get(url,headers = {'User-Agent':user_agent,'Accept-Language' : 'en-US,en;q=0.5'})\n",
    "    print(response)\n",
    "    \n",
    "    # Souping and arranging the html code\n",
    "    soup = bs(response.text,'html.parser')\n",
    "    \n",
    "    # Select table from the soup\n",
    "    movies = soup.findAll('div', attrs = {'class':'sc-c7e5f54-0 gytZrF cli-children'})\n",
    "    #print(movies)\n",
    "\n",
    "    # Select the required coulmn for the dataframe\n",
    "    movie_name = []\n",
    "    year = []\n",
    "    time = []\n",
    "    rating = []\n",
    "    rating_type = []\n",
    "    votes = []\n",
    "\n",
    "    # Taking each records and building our dataframe\n",
    "    for source in movies:\n",
    "        # Get movie name \n",
    "        name = source.div.a.text\n",
    "        movie_name.append(name)\n",
    "    \n",
    "        # Get year of release\n",
    "        year1 = source.find('div',class_=\"sc-c7e5f54-7 brlapf cli-title-metadata\").find('span').text\n",
    "        year.append(year1)\n",
    "    \n",
    "        # Get duration of movie\n",
    "        time1 = source.find('div',class_=\"sc-c7e5f54-7 brlapf cli-title-metadata\").find('span').find_next('span').text\n",
    "        time.append(time1)\n",
    "    \n",
    "        # Get rating type of movie\n",
    "        rating_type1 = source.find('div',class_=\"sc-c7e5f54-7 brlapf cli-title-metadata\").find('span').find_next('span').find_next('span').text\n",
    "        rating_type.append(rating_type1)\n",
    "    \n",
    "        # Get voting rates of movie\n",
    "        vote1 = source.find('span',class_=\"ipc-rating-star--voteCount\").text.replace('\\xa0(','').replace(')','')\n",
    "        votes.append(vote1)\n",
    "    \n",
    "        # Get the rating of movie\n",
    "        rating1 = source.find('div',class_=\"sc-e3e7b191-0 iKUUVe sc-c7e5f54-2 hCiLPi cli-ratings-container\").text.split('(')[0].replace('\\xa0','')\n",
    "        rating.append(rating1)\n",
    "except Exception as e:\n",
    "    print(e)\n"
   ]
  },
  {
   "cell_type": "code",
   "execution_count": 21,
   "id": "066e9348-9904-47c8-bcc3-5d69d6a18f6f",
   "metadata": {},
   "outputs": [
    {
     "data": {
      "text/html": [
       "<div>\n",
       "<style scoped>\n",
       "    .dataframe tbody tr th:only-of-type {\n",
       "        vertical-align: middle;\n",
       "    }\n",
       "\n",
       "    .dataframe tbody tr th {\n",
       "        vertical-align: top;\n",
       "    }\n",
       "\n",
       "    .dataframe thead th {\n",
       "        text-align: right;\n",
       "    }\n",
       "</style>\n",
       "<table border=\"1\" class=\"dataframe\">\n",
       "  <thead>\n",
       "    <tr style=\"text-align: right;\">\n",
       "      <th></th>\n",
       "      <th>Movie Name</th>\n",
       "      <th>Duration</th>\n",
       "      <th>Released year</th>\n",
       "      <th>Rating</th>\n",
       "      <th>Rated type</th>\n",
       "      <th>Votes</th>\n",
       "    </tr>\n",
       "  </thead>\n",
       "  <tbody>\n",
       "  </tbody>\n",
       "</table>\n",
       "</div>"
      ],
      "text/plain": [
       "Empty DataFrame\n",
       "Columns: [Movie Name, Duration, Released year, Rating, Rated type, Votes]\n",
       "Index: []"
      ]
     },
     "execution_count": 21,
     "metadata": {},
     "output_type": "execute_result"
    }
   ],
   "source": [
    "# Put all details into the Dataframe\n",
    "df = pd.DataFrame({'Movie Name':movie_name, 'Duration':time, 'Released year':year, 'Rating': rating, 'Rated type':rating_type, 'Votes':votes})\n",
    "df\n"
   ]
  },
  {
   "cell_type": "markdown",
   "id": "ffb787eb-cdc9-4a12-8f4e-426c7c6fe3d5",
   "metadata": {},
   "source": [
    "    Here I will modify the column Movie Name, Duration, Votes in proper way  "
   ]
  },
  {
   "cell_type": "code",
   "execution_count": 22,
   "id": "b0790969-3d25-431a-9533-9fadce9c75bb",
   "metadata": {},
   "outputs": [],
   "source": [
    "# Convert duration (hours) into minutes\n",
    "def convert_to_minutes(runtime):\n",
    "    total_minutes = 0\n",
    "\n",
    "    parts = runtime.split()\n",
    "    for part in parts:\n",
    "        if 'h' in part:\n",
    "            total_minutes += int(part.replace('h','')) * 60\n",
    "        elif 'm' in part:\n",
    "            total_minutes += int(part.replace('m',''))\n",
    "    return total_minutes"
   ]
  },
  {
   "cell_type": "code",
   "execution_count": 23,
   "id": "773adbb4-d20b-41c3-a885-0f617e57a969",
   "metadata": {},
   "outputs": [],
   "source": [
    "# Convert viewers count (Mega, Kilo) into whole value\n",
    "def convert_viewer_count(viewer_count_str):\n",
    "     multiplier = 1\n",
    "     if 'M' in viewer_count_str:\n",
    "         multiplier = 1e6\n",
    "     elif 'K' in viewer_count_str:\n",
    "         multiplier = 1e3\n",
    "     return int(float(viewer_count_str.replace('M', '').replace('K', '')) * multiplier)\n"
   ]
  },
  {
   "cell_type": "code",
   "execution_count": 26,
   "id": "b47b347e-304f-4760-ad5e-219f96bf5821",
   "metadata": {},
   "outputs": [
    {
     "name": "stdout",
     "output_type": "stream",
     "text": [
      "<Response [200]>\n"
     ]
    }
   ],
   "source": [
    "try:\n",
    "    # loading url of top 250 movies of IMBb list\n",
    "    user_agent = 'Mozilla/5.0 (Windows NT 10.0; Win64; x64) AppleWebKit/537.36 (KHTML, like Gecko) Chrome/116.0.0.0 Safari/537.36'\n",
    "    \n",
    "    # url of the IMDb website\n",
    "    url = 'https://www.imdb.com/chart/top/?ref_=nv_mv_250'\n",
    "    \n",
    "    # Get the url from requests library\n",
    "    response = requests.get(url,headers = {'User-Agent':user_agent,'Accept-Language' : 'en-US,en;q=0.5'})\n",
    "    print(response)\n",
    "    \n",
    "    # Souping and arranging the html code\n",
    "    soup = bs(response.text,'html.parser')\n",
    "    \n",
    "    # Select table from the soup\n",
    "    movies = soup.findAll('div', attrs = {'class':'sc-c7e5f54-0 gytZrF cli-children'})\n",
    "    #print(movies)\n",
    "\n",
    "    # Select the required coulmn for the dataframe\n",
    "    rank = []\n",
    "    movie_name = []\n",
    "    year = []\n",
    "    time = []\n",
    "    rating = []\n",
    "    rating_type = []\n",
    "    votes = []\n",
    "        \n",
    "    # Taking each records and building our dataframe\n",
    "    for source in movies:\n",
    "        name = source.div.a.text\n",
    "\n",
    "        # Get the rank of the movie\n",
    "        rank1 = int(name.split('. ')[0])\n",
    "        \n",
    "        # Get name of the movie\n",
    "        name1 = name.split('. ')[1]\n",
    "        rank.append(rank1)\n",
    "        movie_name.append(name1)\n",
    "        \n",
    "        # Get year of release\n",
    "        year1 = source.find('div',class_=\"sc-c7e5f54-7 brlapf cli-title-metadata\").find('span').text\n",
    "        year.append(year1)\n",
    "        \n",
    "        # Get duration of movie in minutes\n",
    "        time1 = source.find('div',class_=\"sc-c7e5f54-7 brlapf cli-title-metadata\").find('span').find_next('span').text\n",
    "        time1 = convert_to_minutes(time1)\n",
    "        time.append(time1)\n",
    "        \n",
    "        # Get rating type of movie\n",
    "        rating_type1 = source.find('div',class_=\"sc-c7e5f54-7 brlapf cli-title-metadata\").find('span').find_next('span').find_next('span').text\n",
    "        rating_type.append(rating_type1)\n",
    "        \n",
    "         # Get voting rates of movie in whole number\n",
    "        vote1 = source.find('span',class_=\"ipc-rating-star--voteCount\").text.replace('\\xa0(','').replace(')','')\n",
    "        vote1 = convert_viewer_count(vote1)\n",
    "        votes.append(vote1)\n",
    "        \n",
    "        # Get the rating of movie\n",
    "        rating1 = source.find('div',class_=\"sc-e3e7b191-0 iKUUVe sc-c7e5f54-2 hCiLPi cli-ratings-container\").text.split('(')[0].replace('\\xa0','')\n",
    "        rating.append(rating1)\n",
    "\n",
    "except Exception as e:\n",
    "    print(e)"
   ]
  },
  {
   "cell_type": "code",
   "execution_count": 27,
   "id": "5d06aed3-63ac-41eb-94dc-49e382e0c9c8",
   "metadata": {},
   "outputs": [
    {
     "data": {
      "text/html": [
       "<div>\n",
       "<style scoped>\n",
       "    .dataframe tbody tr th:only-of-type {\n",
       "        vertical-align: middle;\n",
       "    }\n",
       "\n",
       "    .dataframe tbody tr th {\n",
       "        vertical-align: top;\n",
       "    }\n",
       "\n",
       "    .dataframe thead th {\n",
       "        text-align: right;\n",
       "    }\n",
       "</style>\n",
       "<table border=\"1\" class=\"dataframe\">\n",
       "  <thead>\n",
       "    <tr style=\"text-align: right;\">\n",
       "      <th></th>\n",
       "      <th>Rank</th>\n",
       "      <th>Movie Name</th>\n",
       "      <th>Year</th>\n",
       "      <th>Duration</th>\n",
       "      <th>Rating</th>\n",
       "      <th>Rating type</th>\n",
       "      <th>Vote</th>\n",
       "    </tr>\n",
       "  </thead>\n",
       "  <tbody>\n",
       "  </tbody>\n",
       "</table>\n",
       "</div>"
      ],
      "text/plain": [
       "Empty DataFrame\n",
       "Columns: [Rank, Movie Name, Year, Duration, Rating, Rating type, Vote]\n",
       "Index: []"
      ]
     },
     "execution_count": 27,
     "metadata": {},
     "output_type": "execute_result"
    }
   ],
   "source": [
    "# Put all details into the Dataframe\n",
    "df1 = pd.DataFrame({'Rank':rank, 'Movie Name':movie_name, 'Year':year, 'Duration':time, 'Rating':rating, 'Rating type':rating_type, 'Vote':votes})\n",
    "df1\n"
   ]
  },
  {
   "cell_type": "code",
   "execution_count": 28,
   "id": "a3be93c9-c4b0-48f4-88e8-af8be8b2319d",
   "metadata": {},
   "outputs": [],
   "source": [
    "# Dounload the dataFrame into csv file\n",
    "df1.to_csv('IMDb dataset.csv',index = False, encoding = 'latin')\n"
   ]
  },
  {
   "cell_type": "markdown",
   "id": "bedaa1e7-ae39-40c0-856d-d34150a0f23d",
   "metadata": {},
   "source": [
    "<h2 style = \"text-align: center\"> \n",
    "    <font color ='blue'> Data Exploration  </font></h2>"
   ]
  },
  {
   "cell_type": "code",
   "execution_count": 29,
   "id": "4f06a3e5-00b3-4809-9f92-2e692508957f",
   "metadata": {},
   "outputs": [
    {
     "data": {
      "text/html": [
       "<div>\n",
       "<style scoped>\n",
       "    .dataframe tbody tr th:only-of-type {\n",
       "        vertical-align: middle;\n",
       "    }\n",
       "\n",
       "    .dataframe tbody tr th {\n",
       "        vertical-align: top;\n",
       "    }\n",
       "\n",
       "    .dataframe thead th {\n",
       "        text-align: right;\n",
       "    }\n",
       "</style>\n",
       "<table border=\"1\" class=\"dataframe\">\n",
       "  <thead>\n",
       "    <tr style=\"text-align: right;\">\n",
       "      <th></th>\n",
       "      <th>Rank</th>\n",
       "      <th>Movie Name</th>\n",
       "      <th>Year</th>\n",
       "      <th>Duration</th>\n",
       "      <th>Rating</th>\n",
       "      <th>Rating type</th>\n",
       "      <th>Vote</th>\n",
       "    </tr>\n",
       "  </thead>\n",
       "  <tbody>\n",
       "  </tbody>\n",
       "</table>\n",
       "</div>"
      ],
      "text/plain": [
       "Empty DataFrame\n",
       "Columns: [Rank, Movie Name, Year, Duration, Rating, Rating type, Vote]\n",
       "Index: []"
      ]
     },
     "execution_count": 29,
     "metadata": {},
     "output_type": "execute_result"
    }
   ],
   "source": [
    "# Load the dataset\n",
    "data = pd.read_csv(\"IMDb dataset.csv\",encoding=\"latin\")\n",
    "data"
   ]
  },
  {
   "cell_type": "code",
   "execution_count": 30,
   "id": "69f1e697-9e9c-443e-a131-d8bedf7b5e40",
   "metadata": {},
   "outputs": [
    {
     "name": "stdout",
     "output_type": "stream",
     "text": [
      "<class 'pandas.core.frame.DataFrame'>\n",
      "RangeIndex: 0 entries\n",
      "Data columns (total 7 columns):\n",
      " #   Column       Non-Null Count  Dtype \n",
      "---  ------       --------------  ----- \n",
      " 0   Rank         0 non-null      object\n",
      " 1   Movie Name   0 non-null      object\n",
      " 2   Year         0 non-null      object\n",
      " 3   Duration     0 non-null      object\n",
      " 4   Rating       0 non-null      object\n",
      " 5   Rating type  0 non-null      object\n",
      " 6   Vote         0 non-null      object\n",
      "dtypes: object(7)\n",
      "memory usage: 132.0+ bytes\n"
     ]
    }
   ],
   "source": [
    "# Display all the details of dataframe\n",
    "data.info()"
   ]
  },
  {
   "cell_type": "code",
   "execution_count": 31,
   "id": "b4e82e5b-6af0-45e0-9f19-9577ab326520",
   "metadata": {},
   "outputs": [
    {
     "data": {
      "text/html": [
       "<div>\n",
       "<style scoped>\n",
       "    .dataframe tbody tr th:only-of-type {\n",
       "        vertical-align: middle;\n",
       "    }\n",
       "\n",
       "    .dataframe tbody tr th {\n",
       "        vertical-align: top;\n",
       "    }\n",
       "\n",
       "    .dataframe thead th {\n",
       "        text-align: right;\n",
       "    }\n",
       "</style>\n",
       "<table border=\"1\" class=\"dataframe\">\n",
       "  <thead>\n",
       "    <tr style=\"text-align: right;\">\n",
       "      <th></th>\n",
       "      <th>Rank</th>\n",
       "      <th>Movie Name</th>\n",
       "      <th>Year</th>\n",
       "      <th>Duration</th>\n",
       "      <th>Rating</th>\n",
       "      <th>Rating type</th>\n",
       "      <th>Vote</th>\n",
       "    </tr>\n",
       "  </thead>\n",
       "  <tbody>\n",
       "  </tbody>\n",
       "</table>\n",
       "</div>"
      ],
      "text/plain": [
       "Empty DataFrame\n",
       "Columns: [Rank, Movie Name, Year, Duration, Rating, Rating type, Vote]\n",
       "Index: []"
      ]
     },
     "execution_count": 31,
     "metadata": {},
     "output_type": "execute_result"
    }
   ],
   "source": [
    "# Display top 5 rows of the dataset\n",
    "data.head(5)"
   ]
  },
  {
   "cell_type": "code",
   "execution_count": 32,
   "id": "3fdefda1-bcfe-43d8-b104-8526aa1f805e",
   "metadata": {},
   "outputs": [
    {
     "data": {
      "text/html": [
       "<div>\n",
       "<style scoped>\n",
       "    .dataframe tbody tr th:only-of-type {\n",
       "        vertical-align: middle;\n",
       "    }\n",
       "\n",
       "    .dataframe tbody tr th {\n",
       "        vertical-align: top;\n",
       "    }\n",
       "\n",
       "    .dataframe thead th {\n",
       "        text-align: right;\n",
       "    }\n",
       "</style>\n",
       "<table border=\"1\" class=\"dataframe\">\n",
       "  <thead>\n",
       "    <tr style=\"text-align: right;\">\n",
       "      <th></th>\n",
       "      <th>Rank</th>\n",
       "      <th>Movie Name</th>\n",
       "      <th>Year</th>\n",
       "      <th>Duration</th>\n",
       "      <th>Rating</th>\n",
       "      <th>Rating type</th>\n",
       "      <th>Vote</th>\n",
       "    </tr>\n",
       "  </thead>\n",
       "  <tbody>\n",
       "  </tbody>\n",
       "</table>\n",
       "</div>"
      ],
      "text/plain": [
       "Empty DataFrame\n",
       "Columns: [Rank, Movie Name, Year, Duration, Rating, Rating type, Vote]\n",
       "Index: []"
      ]
     },
     "execution_count": 32,
     "metadata": {},
     "output_type": "execute_result"
    }
   ],
   "source": [
    "# Display bottom 5 rows of the dataset\n",
    "data.tail(5)"
   ]
  },
  {
   "cell_type": "code",
   "execution_count": 33,
   "id": "ae095961-4df9-4f3d-a647-215d1900e420",
   "metadata": {},
   "outputs": [
    {
     "data": {
      "text/plain": [
       "(0, 7)"
      ]
     },
     "execution_count": 33,
     "metadata": {},
     "output_type": "execute_result"
    }
   ],
   "source": [
    "# Display size of the dataset\n",
    "data.shape"
   ]
  },
  {
   "cell_type": "code",
   "execution_count": 34,
   "id": "03822a2d-0ef0-4c7b-98d2-e9dfa4409e02",
   "metadata": {},
   "outputs": [
    {
     "data": {
      "text/html": [
       "<div>\n",
       "<style scoped>\n",
       "    .dataframe tbody tr th:only-of-type {\n",
       "        vertical-align: middle;\n",
       "    }\n",
       "\n",
       "    .dataframe tbody tr th {\n",
       "        vertical-align: top;\n",
       "    }\n",
       "\n",
       "    .dataframe thead th {\n",
       "        text-align: right;\n",
       "    }\n",
       "</style>\n",
       "<table border=\"1\" class=\"dataframe\">\n",
       "  <thead>\n",
       "    <tr style=\"text-align: right;\">\n",
       "      <th></th>\n",
       "      <th>Rank</th>\n",
       "      <th>Movie Name</th>\n",
       "      <th>Year</th>\n",
       "      <th>Duration</th>\n",
       "      <th>Rating</th>\n",
       "      <th>Rating type</th>\n",
       "      <th>Vote</th>\n",
       "    </tr>\n",
       "  </thead>\n",
       "  <tbody>\n",
       "    <tr>\n",
       "      <th>count</th>\n",
       "      <td>0</td>\n",
       "      <td>0</td>\n",
       "      <td>0</td>\n",
       "      <td>0</td>\n",
       "      <td>0</td>\n",
       "      <td>0</td>\n",
       "      <td>0</td>\n",
       "    </tr>\n",
       "    <tr>\n",
       "      <th>unique</th>\n",
       "      <td>0</td>\n",
       "      <td>0</td>\n",
       "      <td>0</td>\n",
       "      <td>0</td>\n",
       "      <td>0</td>\n",
       "      <td>0</td>\n",
       "      <td>0</td>\n",
       "    </tr>\n",
       "    <tr>\n",
       "      <th>top</th>\n",
       "      <td>NaN</td>\n",
       "      <td>NaN</td>\n",
       "      <td>NaN</td>\n",
       "      <td>NaN</td>\n",
       "      <td>NaN</td>\n",
       "      <td>NaN</td>\n",
       "      <td>NaN</td>\n",
       "    </tr>\n",
       "    <tr>\n",
       "      <th>freq</th>\n",
       "      <td>NaN</td>\n",
       "      <td>NaN</td>\n",
       "      <td>NaN</td>\n",
       "      <td>NaN</td>\n",
       "      <td>NaN</td>\n",
       "      <td>NaN</td>\n",
       "      <td>NaN</td>\n",
       "    </tr>\n",
       "  </tbody>\n",
       "</table>\n",
       "</div>"
      ],
      "text/plain": [
       "       Rank Movie Name Year Duration Rating Rating type Vote\n",
       "count     0          0    0        0      0           0    0\n",
       "unique    0          0    0        0      0           0    0\n",
       "top     NaN        NaN  NaN      NaN    NaN         NaN  NaN\n",
       "freq    NaN        NaN  NaN      NaN    NaN         NaN  NaN"
      ]
     },
     "execution_count": 34,
     "metadata": {},
     "output_type": "execute_result"
    }
   ],
   "source": [
    "# Display the statistics of the dataset\n",
    "data.describe()"
   ]
  },
  {
   "cell_type": "code",
   "execution_count": 35,
   "id": "26fe76ed-c167-488a-8aa9-047bc5b7ac62",
   "metadata": {},
   "outputs": [
    {
     "data": {
      "text/plain": [
       "Index(['Rank', 'Movie Name', 'Year', 'Duration', 'Rating', 'Rating type',\n",
       "       'Vote'],\n",
       "      dtype='object')"
      ]
     },
     "execution_count": 35,
     "metadata": {},
     "output_type": "execute_result"
    }
   ],
   "source": [
    "# Display column name of the dataset\n",
    "data.columns"
   ]
  },
  {
   "cell_type": "code",
   "execution_count": 36,
   "id": "e3295ba0-c00f-45f0-a14a-bc3a3fb1addf",
   "metadata": {},
   "outputs": [
    {
     "data": {
      "text/plain": [
       "0"
      ]
     },
     "execution_count": 36,
     "metadata": {},
     "output_type": "execute_result"
    }
   ],
   "source": [
    "# Check the duplicate data\n",
    "data.duplicated().sum()"
   ]
  },
  {
   "cell_type": "code",
   "execution_count": 37,
   "id": "ba2ecd2d-cc15-4ec0-af46-792fe5ecaebd",
   "metadata": {},
   "outputs": [
    {
     "data": {
      "text/html": [
       "<div>\n",
       "<style scoped>\n",
       "    .dataframe tbody tr th:only-of-type {\n",
       "        vertical-align: middle;\n",
       "    }\n",
       "\n",
       "    .dataframe tbody tr th {\n",
       "        vertical-align: top;\n",
       "    }\n",
       "\n",
       "    .dataframe thead th {\n",
       "        text-align: right;\n",
       "    }\n",
       "</style>\n",
       "<table border=\"1\" class=\"dataframe\">\n",
       "  <thead>\n",
       "    <tr style=\"text-align: right;\">\n",
       "      <th></th>\n",
       "      <th>Rank</th>\n",
       "      <th>Movie Name</th>\n",
       "      <th>Year</th>\n",
       "      <th>Duration</th>\n",
       "      <th>Rating</th>\n",
       "      <th>Rating type</th>\n",
       "      <th>Vote</th>\n",
       "    </tr>\n",
       "  </thead>\n",
       "  <tbody>\n",
       "  </tbody>\n",
       "</table>\n",
       "</div>"
      ],
      "text/plain": [
       "Empty DataFrame\n",
       "Columns: [Rank, Movie Name, Year, Duration, Rating, Rating type, Vote]\n",
       "Index: []"
      ]
     },
     "execution_count": 37,
     "metadata": {},
     "output_type": "execute_result"
    }
   ],
   "source": [
    "# Identify the null values\n",
    "data.isna()"
   ]
  },
  {
   "cell_type": "code",
   "execution_count": 38,
   "id": "6a5afe80-160e-4aea-8ba7-4eae759bb6aa",
   "metadata": {},
   "outputs": [
    {
     "data": {
      "text/plain": [
       "Rank           0.0\n",
       "Movie Name     0.0\n",
       "Year           0.0\n",
       "Duration       0.0\n",
       "Rating         0.0\n",
       "Rating type    0.0\n",
       "Vote           0.0\n",
       "dtype: float64"
      ]
     },
     "execution_count": 38,
     "metadata": {},
     "output_type": "execute_result"
    }
   ],
   "source": [
    "# Identify the null values\n",
    "data.isna().sum()"
   ]
  },
  {
   "cell_type": "code",
   "execution_count": null,
   "id": "000e71c3-16b2-41c2-901d-93bc556f46b2",
   "metadata": {},
   "outputs": [],
   "source": []
  },
  {
   "cell_type": "code",
   "execution_count": null,
   "id": "54774e79-2c4a-4c9f-9479-e88ea1f338c9",
   "metadata": {},
   "outputs": [],
   "source": []
  },
  {
   "cell_type": "code",
   "execution_count": null,
   "id": "0daf73b2-e121-45d7-9e4b-675dc5943d55",
   "metadata": {},
   "outputs": [],
   "source": []
  },
  {
   "cell_type": "code",
   "execution_count": null,
   "id": "99151b71-9669-45c5-b457-e755872497b5",
   "metadata": {},
   "outputs": [],
   "source": []
  },
  {
   "cell_type": "code",
   "execution_count": null,
   "id": "0153805b-2174-48d1-9897-43b6815f515e",
   "metadata": {},
   "outputs": [],
   "source": []
  }
 ],
 "metadata": {
  "kernelspec": {
   "display_name": "Python 3 (ipykernel)",
   "language": "python",
   "name": "python3"
  },
  "language_info": {
   "codemirror_mode": {
    "name": "ipython",
    "version": 3
   },
   "file_extension": ".py",
   "mimetype": "text/x-python",
   "name": "python",
   "nbconvert_exporter": "python",
   "pygments_lexer": "ipython3",
   "version": "3.11.4"
  }
 },
 "nbformat": 4,
 "nbformat_minor": 5
}
